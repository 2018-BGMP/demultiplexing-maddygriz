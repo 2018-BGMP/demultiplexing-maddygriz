{
 "cells": [
  {
   "cell_type": "code",
   "execution_count": 32,
   "metadata": {},
   "outputs": [],
   "source": [
    "def convert_phred(letter):\n",
    "    \"\"\"Converts a single character into a phred score\"\"\"\n",
    "    return(ord(letter)-33)"
   ]
  },
  {
   "cell_type": "code",
   "execution_count": 33,
   "metadata": {},
   "outputs": [
    {
     "name": "stdout",
     "output_type": "stream",
     "text": [
      "@K00337:83:HJKJNBBXX:8:1101:1265:1191 1:N:0:1\n",
      "37.82222222222222\n",
      "@K00337:83:HJKJNBBXX:8:1101:1286:1191 1:N:0:1\n",
      "38.544444444444444\n",
      "@K00337:83:HJKJNBBXX:8:1101:1347:1191 1:N:0:1\n",
      "31.696296296296296\n",
      "@K00337:83:HJKJNBBXX:8:1101:1367:1191 1:N:0:1\n",
      "32.733333333333334\n",
      "@K00337:83:HJKJNBBXX:8:1101:1407:1191 1:N:0:1\n",
      "33.91555555555556\n",
      "@K00337:83:HJKJNBBXX:8:1101:1448:1191 1:N:0:1\n",
      "34.01851851851852\n",
      "\n",
      "\n",
      "@K00337:83:HJKJNBBXX:8:1101:1265:1191 4:N:0:1\n",
      "33.266666666666666\n",
      "@K00337:83:HJKJNBBXX:8:1101:1286:1191 4:N:0:1\n",
      "33.8\n",
      "@K00337:83:HJKJNBBXX:8:1101:1347:1191 4:N:0:1\n",
      "34.41975308641975\n",
      "@K00337:83:HJKJNBBXX:8:1101:1367:1191 4:N:0:1\n",
      "32.855555555555554\n",
      "@K00337:83:HJKJNBBXX:8:1101:1407:1191 4:N:0:1\n",
      "33.313131313131315\n",
      "@K00337:83:HJKJNBBXX:8:1101:1448:1191 4:N:0:1\n",
      "33.19259259259259\n"
     ]
    }
   ],
   "source": [
    "read1 = \"TestFiles/read1.fastq\"\n",
    "read2 = \"TestFiles/read2.fastq\"\n",
    "count = 1\n",
    "total = 0\n",
    "characters = 0\n",
    "\n",
    "with open (read1, \"r\") as fh:\n",
    "    for line in fh:\n",
    "        line = line.strip()\n",
    "        if count == 1:\n",
    "            print(line)\n",
    "        if count == 4:\n",
    "            for character in line:\n",
    "                total += convert_phred(character)\n",
    "                characters += 1\n",
    "            print(total/characters)\n",
    "            count = 1\n",
    "        else:\n",
    "            count += 1\n",
    "print(\"\\n\")         \n",
    "with open (read2, \"r\") as fh:\n",
    "    for line in fh:\n",
    "        line = line.strip()\n",
    "        if count == 1:\n",
    "            print(line)\n",
    "        if count == 4:\n",
    "            for character in line:\n",
    "                total += convert_phred(character)\n",
    "                characters += 1\n",
    "            print(total/characters)\n",
    "            count = 1\n",
    "        else:\n",
    "            count += 1"
   ]
  },
  {
   "cell_type": "code",
   "execution_count": null,
   "metadata": {
    "collapsed": true
   },
   "outputs": [],
   "source": []
  }
 ],
 "metadata": {
  "kernelspec": {
   "display_name": "Python 3",
   "language": "python",
   "name": "python3"
  },
  "language_info": {
   "codemirror_mode": {
    "name": "ipython",
    "version": 3
   },
   "file_extension": ".py",
   "mimetype": "text/x-python",
   "name": "python",
   "nbconvert_exporter": "python",
   "pygments_lexer": "ipython3",
   "version": "3.6.3"
  }
 },
 "nbformat": 4,
 "nbformat_minor": 2
}
